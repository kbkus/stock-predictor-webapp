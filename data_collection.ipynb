{
 "metadata": {
  "language_info": {
   "codemirror_mode": {
    "name": "ipython",
    "version": 3
   },
   "file_extension": ".py",
   "mimetype": "text/x-python",
   "name": "python",
   "nbconvert_exporter": "python",
   "pygments_lexer": "ipython3",
   "version": "3.8.3"
  },
  "orig_nbformat": 2,
  "kernelspec": {
   "name": "stock_env",
   "display_name": "stock_env",
   "language": "python"
  }
 },
 "nbformat": 4,
 "nbformat_minor": 2,
 "cells": [
  {
   "cell_type": "code",
   "execution_count": 21,
   "metadata": {},
   "outputs": [
    {
     "output_type": "error",
     "ename": "ImportError",
     "evalue": "cannot import name 'scrape_finfiz' from 'functions' (/Users/kacikus/Dropbox/stock-predictor/functions.py)",
     "traceback": [
      "\u001b[0;31m---------------------------------------------------------------------------\u001b[0m",
      "\u001b[0;31mImportError\u001b[0m                               Traceback (most recent call last)",
      "\u001b[0;32m<ipython-input-21-f43d81f0a969>\u001b[0m in \u001b[0;36m<module>\u001b[0;34m\u001b[0m\n\u001b[1;32m     17\u001b[0m \u001b[0;34m\u001b[0m\u001b[0m\n\u001b[1;32m     18\u001b[0m \u001b[0;31m# import functions\u001b[0m\u001b[0;34m\u001b[0m\u001b[0;34m\u001b[0m\u001b[0;34m\u001b[0m\u001b[0m\n\u001b[0;32m---> 19\u001b[0;31m \u001b[0;32mfrom\u001b[0m \u001b[0mfunctions\u001b[0m \u001b[0;32mimport\u001b[0m \u001b[0mscrape_finfiz\u001b[0m\u001b[0;34m\u001b[0m\u001b[0;34m\u001b[0m\u001b[0m\n\u001b[0m",
      "\u001b[0;31mImportError\u001b[0m: cannot import name 'scrape_finfiz' from 'functions' (/Users/kacikus/Dropbox/stock-predictor/functions.py)"
     ]
    }
   ],
   "source": [
    "import requests # for web scraping\n",
    "from bs4 import BeautifulSoup\n",
    "import pandas as pd\n",
    "import matplotlib.pyplot as plt\n",
    "from datetime import timedelta\n",
    "import numpy as np\n",
    "\n",
    "# sentiment analysis\n",
    "from nltk.sentiment.vader import SentimentIntensityAnalyzer\n",
    "from nltk.tokenize import word_tokenize\n",
    "from sentiment_dictionary import NEW_WORDS\n",
    "\n",
    "# install yahoo finance\n",
    "import yfinance as yf\n",
    "\n",
    "from config import save_path\n",
    "\n",
    "# import functions\n",
    "from functions import scrape_finfiz"
   ]
  },
  {
   "cell_type": "code",
   "execution_count": 14,
   "metadata": {},
   "outputs": [
    {
     "output_type": "stream",
     "name": "stdout",
     "text": [
      "1 companies to gather data for\n1\n"
     ]
    }
   ],
   "source": [
    "news = scrape_finviz(['AAPL'])"
   ]
  },
  {
   "cell_type": "code",
   "execution_count": 15,
   "metadata": {},
   "outputs": [
    {
     "output_type": "execute_result",
     "data": {
      "text/plain": [
       "   company       date     time  \\\n",
       "0     AAPL  Apr-21-21  02:21PM   \n",
       "1     AAPL  Apr-21-21  02:17PM   \n",
       "2     AAPL  Apr-21-21  02:03PM   \n",
       "3     AAPL  Apr-21-21  01:39PM   \n",
       "4     AAPL  Apr-21-21  01:36PM   \n",
       "..     ...        ...      ...   \n",
       "95    AAPL  Apr-20-21  04:24AM   \n",
       "96    AAPL  Apr-20-21  02:20AM   \n",
       "97    AAPL  Apr-20-21  01:52AM   \n",
       "98    AAPL  Apr-19-21  06:32PM   \n",
       "99    AAPL  Apr-19-21  04:32PM   \n",
       "\n",
       "                                             headline  \n",
       "0   UPDATE 1-Facebook tweaks ad tools ahead of App...  \n",
       "1   FTC Nominee Khan Calls for More Scrutiny of Te...  \n",
       "2   UPDATE 1-Epic CEO, Apple App Store chief to at...  \n",
       "3   Dow Jones Rallies 230 Points As Stock Market R...  \n",
       "4   4 Dow Jones Stocks To Buy And Watch In April 2...  \n",
       "..                                                ...  \n",
       "95  UPDATE 1-Taiwan March export orders up again, ...  \n",
       "96  Apple's 'Spring Loaded' Event - Here's What to...  \n",
       "97  Dow Futures Fall as COVID Surge Clouds US Earn...  \n",
       "98  Apple to Reinstate Parler; Google Offers Poten...  \n",
       "99  Senate to Call Spotify, Match at Apple, Google...  \n",
       "\n",
       "[100 rows x 4 columns]"
      ],
      "text/html": "<div>\n<style scoped>\n    .dataframe tbody tr th:only-of-type {\n        vertical-align: middle;\n    }\n\n    .dataframe tbody tr th {\n        vertical-align: top;\n    }\n\n    .dataframe thead th {\n        text-align: right;\n    }\n</style>\n<table border=\"1\" class=\"dataframe\">\n  <thead>\n    <tr style=\"text-align: right;\">\n      <th></th>\n      <th>company</th>\n      <th>date</th>\n      <th>time</th>\n      <th>headline</th>\n    </tr>\n  </thead>\n  <tbody>\n    <tr>\n      <th>0</th>\n      <td>AAPL</td>\n      <td>Apr-21-21</td>\n      <td>02:21PM</td>\n      <td>UPDATE 1-Facebook tweaks ad tools ahead of App...</td>\n    </tr>\n    <tr>\n      <th>1</th>\n      <td>AAPL</td>\n      <td>Apr-21-21</td>\n      <td>02:17PM</td>\n      <td>FTC Nominee Khan Calls for More Scrutiny of Te...</td>\n    </tr>\n    <tr>\n      <th>2</th>\n      <td>AAPL</td>\n      <td>Apr-21-21</td>\n      <td>02:03PM</td>\n      <td>UPDATE 1-Epic CEO, Apple App Store chief to at...</td>\n    </tr>\n    <tr>\n      <th>3</th>\n      <td>AAPL</td>\n      <td>Apr-21-21</td>\n      <td>01:39PM</td>\n      <td>Dow Jones Rallies 230 Points As Stock Market R...</td>\n    </tr>\n    <tr>\n      <th>4</th>\n      <td>AAPL</td>\n      <td>Apr-21-21</td>\n      <td>01:36PM</td>\n      <td>4 Dow Jones Stocks To Buy And Watch In April 2...</td>\n    </tr>\n    <tr>\n      <th>...</th>\n      <td>...</td>\n      <td>...</td>\n      <td>...</td>\n      <td>...</td>\n    </tr>\n    <tr>\n      <th>95</th>\n      <td>AAPL</td>\n      <td>Apr-20-21</td>\n      <td>04:24AM</td>\n      <td>UPDATE 1-Taiwan March export orders up again, ...</td>\n    </tr>\n    <tr>\n      <th>96</th>\n      <td>AAPL</td>\n      <td>Apr-20-21</td>\n      <td>02:20AM</td>\n      <td>Apple's 'Spring Loaded' Event - Here's What to...</td>\n    </tr>\n    <tr>\n      <th>97</th>\n      <td>AAPL</td>\n      <td>Apr-20-21</td>\n      <td>01:52AM</td>\n      <td>Dow Futures Fall as COVID Surge Clouds US Earn...</td>\n    </tr>\n    <tr>\n      <th>98</th>\n      <td>AAPL</td>\n      <td>Apr-19-21</td>\n      <td>06:32PM</td>\n      <td>Apple to Reinstate Parler; Google Offers Poten...</td>\n    </tr>\n    <tr>\n      <th>99</th>\n      <td>AAPL</td>\n      <td>Apr-19-21</td>\n      <td>04:32PM</td>\n      <td>Senate to Call Spotify, Match at Apple, Google...</td>\n    </tr>\n  </tbody>\n</table>\n<p>100 rows × 4 columns</p>\n</div>"
     },
     "metadata": {},
     "execution_count": 15
    }
   ],
   "source": [
    "news"
   ]
  },
  {
   "cell_type": "code",
   "execution_count": null,
   "metadata": {},
   "outputs": [],
   "source": []
  }
 ]
}